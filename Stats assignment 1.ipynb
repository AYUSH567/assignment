{
 "cells": [
  {
   "cell_type": "code",
   "execution_count": 5,
   "metadata": {},
   "outputs": [],
   "source": [
    "import numpy as np\n",
    "import matplotlib.pyplot as plt\n",
    "import seaborn as sns\n",
    "import scipy.stats as st\n",
    "from scipy.integrate import quad"
   ]
  },
  {
   "cell_type": "markdown",
   "metadata": {},
   "source": [
    "Calculate the mean, median, mode and standard deviation for the problem statements 1& 2."
   ]
  },
  {
   "cell_type": "markdown",
   "metadata": {},
   "source": [
    "Problem Statement 1: The marks awarded for an assignment set for a Year\n",
    "8 class of 20 students were as follows: 6 7 5 7 7 8 7 6 9 7 4 10 6 8 8 9 5 6 4 8"
   ]
  },
  {
   "cell_type": "code",
   "execution_count": 11,
   "metadata": {},
   "outputs": [
    {
     "name": "stdout",
     "output_type": "stream",
     "text": [
      "The mean of the data is 6.85\n",
      "The median of the data is 7.0\n",
      "The standard Daviation of the data is 1.5898113095584647\n"
     ]
    }
   ],
   "source": [
    "arr = np.array([6,7,5,7,7,8,7,6,9,7,4,10,6,8,8,9,5,6,4,8])\n",
    "mean = np.mean(arr)\n",
    "median = np.median(arr)\n",
    "std = np.std(arr)\n",
    "print(\"The mean of the data is {}\".format(mean))\n",
    "print(\"The median of the data is {}\".format(median))\n",
    "print(\"The standard Daviation of the data is {}\".format(std))"
   ]
  },
  {
   "cell_type": "markdown",
   "metadata": {},
   "source": [
    "The number of calls from motorists per day for roadside service was recorded for a\n",
    "particular month:\n",
    "28, 122, 217, 130, 120, 86, 80, 90, 140, 120, 70, 40, 145, 113, 90, 68, 174, 194, 170,\n",
    "100, 75, 104, 97, 75,\n",
    "123, 100, 75, 104, 97, 75, 123, 100, 89, 120, 109"
   ]
  },
  {
   "cell_type": "code",
   "execution_count": 12,
   "metadata": {},
   "outputs": [
    {
     "name": "stdout",
     "output_type": "stream",
     "text": [
      "The mean of the data is 107.51428571428572\n",
      "The median of the data is 100.0\n",
      "The standard Daviation of the data is 38.77287080168403\n"
     ]
    }
   ],
   "source": [
    "arr1 = np.array([28,122,217,130,120,86,80,90,140,120,70,40,145,113,90,68,174,194,170,100,75,104, \n",
    "                 97,75,123,100,75,104,97,75,123,100,89,120,109])\n",
    "mean = np.mean(arr1)\n",
    "median = np.median(arr1)\n",
    "std = np.std(arr1)\n",
    "print(\"The mean of the data is {}\".format(mean))\n",
    "print(\"The median of the data is {}\".format(median))\n",
    "print(\"The standard Daviation of the data is {}\".format(std))"
   ]
  },
  {
   "cell_type": "markdown",
   "metadata": {},
   "source": [
    "Problem Statement 3: The number of times I go to the gym in weekdays, are given below along with its associated probability: x = 0, 1, 2, 3, 4, 5 f(x) = 0.09, 0.15, 0.40, 0.25, 0.10, 0.01 Calculate the mean no. of workouts in a week. Also evaluate the variance involved in it"
   ]
  },
  {
   "cell_type": "code",
   "execution_count": 13,
   "metadata": {},
   "outputs": [
    {
     "name": "stdout",
     "output_type": "stream",
     "text": [
      "The mean number of workouts in a week are 2.15\n",
      "The variance is 1.2275\n"
     ]
    }
   ],
   "source": [
    "x = [0,1,2,3,4,5]\n",
    "p = [0.09,0.15,0.40,0.25,0.10,0.01]\n",
    "avg = 0\n",
    "var = 0\n",
    "for i,j in zip(x,p):\n",
    "    avg = avg+i*j\n",
    "for i,j in zip(x,p):\n",
    "    var=var+(((i-avg)**2)*j)\n",
    "print(\"The mean number of workouts in a week are {}\".format(avg))\n",
    "print(\"The variance is {}\".format(var))"
   ]
  },
  {
   "cell_type": "markdown",
   "metadata": {},
   "source": [
    "Problem Statement 4: Let the continuous random variable D denote the diameter of the hole drilled in an aluminum sheet. The target diameter to be achieved is 12.5mm. Random disturbances in the process often result in inaccuracy. Historical data shows that the distribution of D can be modelled by the PDF (𝑑) = 20𝑒−20(𝑑−12.5), 𝑑 ≥ 12.5. If a part with diameter > 12.6 mm needs to be scrapped, what is the proportion of those parts? What is the CDF when the diameter is of 11 mm? What is your conclusion regarding the proportion of scraps?"
   ]
  },
  {
   "cell_type": "code",
   "execution_count": 14,
   "metadata": {},
   "outputs": [
    {
     "name": "stdout",
     "output_type": "stream",
     "text": [
      "The proportion of the parts with diameter greater than 12.6mm is: 0.13533528323661398\n",
      "The cdf when the diameter is of 11mm is zero\n",
      "The proportion of the parts between 12.5 and 12.6 is: 0.8646647167633718\n",
      "In other words sum of the proportion of the parts between 1.5 and 12.6 and proportion of the parts greater than 12.6 is 1,which indicates that the proportion of the parts less than 12.5 is 0\n"
     ]
    }
   ],
   "source": [
    "def prob_func(d):\n",
    "    return (20*np.exp(-20*(d-12.5)))\n",
    "res=quad(prob_func,a=12.6,b=np.inf)[0]\n",
    "print(\"The proportion of the parts with diameter greater than 12.6mm is:\",res)\n",
    "print(\"The cdf when the diameter is of 11mm is zero\")\n",
    "res1=quad(prob_func,a=12.5,b=12.6)[0]\n",
    "print(\"The proportion of the parts between 12.5 and 12.6 is:\",res1)\n",
    "print(\"In other words sum of the proportion of the parts between 1.5 and 12.6 and proportion of the parts greater than 12.6 is 1,which indicates that the proportion of the parts less than 12.5 is 0\")"
   ]
  },
  {
   "cell_type": "markdown",
   "metadata": {},
   "source": [
    "Problem Statement 5: A company manufactures LED bulbs with a faulty rate of 30%. If I randomly select 6 chosen LEDs, what is the probability of having 2 faulty LEDs in my sample? Calculate the average value of this process. Also evaluate the standard deviation associated with it."
   ]
  },
  {
   "cell_type": "code",
   "execution_count": 21,
   "metadata": {},
   "outputs": [
    {
     "name": "stdout",
     "output_type": "stream",
     "text": [
      "The probability of finding two faulty led's is 0.3195\n",
      "The mean of the process is 107.51428571428572\n",
      "The standard deviation of the process is 1.1246160667089904\n"
     ]
    }
   ],
   "source": [
    "faulrate = 0.3\n",
    "n = 6\n",
    "r = 2\n",
    "trails = 20000\n",
    "bino = np.random.binomial(n,faulrate,trails)\n",
    "probabilityoffault = np.sum(bino == 2)/20000\n",
    "mena = bino.mean()\n",
    "standraddeviation = bino.std()\n",
    "print(\"The probability of finding two faulty led's is {}\".format(probabilityoffault))\n",
    "print(\"The mean of the process is {}\".format(mean))\n",
    "print('The standard deviation of the process is {}'.format(standraddeviation))"
   ]
  },
  {
   "cell_type": "markdown",
   "metadata": {},
   "source": [
    "6.Gaurav and Barakha are both preparing for entrance exams. Gaurav attempts to solve 8 questions per day with a correction rate of 75%, while Barakha averages around 12 questions per day with a correction rate of 45%. What is the probability that each of them will solve 5 questions correctly? What happens in cases of 4 and 6 correct solutions? What do you infer from it? What are the two main governing factors affecting their ability to solve questions correctly? Give a pictorial representation of the same to validate your answer."
   ]
  },
  {
   "cell_type": "code",
   "execution_count": 22,
   "metadata": {},
   "outputs": [
    {
     "name": "stdout",
     "output_type": "stream",
     "text": [
      "Probability of gaurav solving 5 questions correctly is: 0.2009\n",
      "Probability of barkha solving 5 questions correctly is: 0.2228\n",
      "Probability of gaurav solving 4 questions correctly is: 0.0864\n",
      "Probability of barkha solving 4 questions correctly is: 0.1682\n",
      "Probability of gaurav solving 6 questions correctly is: 0.31215\n",
      "Probability of barkha solving 6 questions correctly is: 0.2118\n"
     ]
    }
   ],
   "source": [
    "gaurav = np.random.binomial(8,0.75,20000)\n",
    "barkha = np.random.binomial(12,0.45,20000)\n",
    "gaurava = []\n",
    "barkhab = []\n",
    "for i in range(9):\n",
    "    gaurava.append(np.sum(gaurav==i)/20000)\n",
    "    barkhab.append(np.sum(barkha==i)/20000)\n",
    "print(\"Probability of gaurav solving 5 questions correctly is:\",gaurava[5])\n",
    "print(\"Probability of barkha solving 5 questions correctly is:\",barkhab[5])\n",
    "print(\"Probability of gaurav solving 4 questions correctly is:\",gaurava[4])\n",
    "print(\"Probability of barkha solving 4 questions correctly is:\",barkhab[4])\n",
    "print(\"Probability of gaurav solving 6 questions correctly is:\",gaurava[6])\n",
    "print(\"Probability of barkha solving 6 questions correctly is:\",barkhab[6])"
   ]
  },
  {
   "cell_type": "code",
   "execution_count": 23,
   "metadata": {},
   "outputs": [
    {
     "data": {
      "text/plain": [
       "Text(0.5, 1.0, 'Probability distribution of Gaurav with p=0.75,n=8')"
      ]
     },
     "execution_count": 23,
     "metadata": {},
     "output_type": "execute_result"
    },
    {
     "data": {
      "image/png": "[encoded data removed]",
      "text/plain": [
       "<Figure size 432x288 with 1 Axes>"
      ]
     },
     "metadata": {
      "needs_background": "light"
     },
     "output_type": "display_data"
    }
   ],
   "source": [
    "x=[i for i in range(9)]\n",
    "plt.plot(x,gaurava)\n",
    "plt.xlabel(\"Number of correct questions\")\n",
    "plt.ylabel(\"P(x)\")\n",
    "plt.title(\"Probability distribution of Gaurav with p=0.75,n=8\")"
   ]
  },
  {
   "cell_type": "code",
   "execution_count": 24,
   "metadata": {},
   "outputs": [
    {
     "data": {
      "text/plain": [
       "Text(0.5, 1.0, 'Probability distribution of Barkha with p=0.45,n=12')"
      ]
     },
     "execution_count": 24,
     "metadata": {},
     "output_type": "execute_result"
    },
    {
     "data": {
      "image/png": "[encoded data removed]",
      "text/plain": [
       "<Figure size 432x288 with 1 Axes>"
      ]
     },
     "metadata": {
      "needs_background": "light"
     },
     "output_type": "display_data"
    }
   ],
   "source": [
    "plt.plot(x,barkhab)\n",
    "plt.xlabel(\"Number of correct questions\")\n",
    "plt.ylabel(\"P(x)\")\n",
    "plt.title(\"Probability distribution of Barkha with p=0.45,n=12\")"
   ]
  },
  {
   "cell_type": "code",
   "execution_count": 25,
   "metadata": {},
   "outputs": [
    {
     "data": {
      "text/plain": [
       "Text(0.5, 1.0, 'Probability distribution of gaurav and Barkha ')"
      ]
     },
     "execution_count": 25,
     "metadata": {},
     "output_type": "execute_result"
    },
    {
     "data": {
      "image/png": "[encoded data removed]",
      "text/plain": [
       "<Figure size 432x288 with 1 Axes>"
      ]
     },
     "metadata": {
      "needs_background": "light"
     },
     "output_type": "display_data"
    }
   ],
   "source": [
    "plt.plot(x,gaurava,label=\"Gaurav\")\n",
    "plt.plot(x,barkhab,label='Barkha')\n",
    "plt.xlabel(\"Number of correct questions\")\n",
    "plt.ylabel(\"P(x)\")\n",
    "plt.figlegend()\n",
    "plt.title(\"Probability distribution of gaurav and Barkha \")"
   ]
  },
  {
   "cell_type": "code",
   "execution_count": 26,
   "metadata": {},
   "outputs": [
    {
     "name": "stdout",
     "output_type": "stream",
     "text": [
      "The probability of 5 customers arriving is 0.164\n",
      "The probability of not more than 3 customers is :0.306\n",
      "The probability of more than 3 customers is 0.694\n"
     ]
    },
    {
     "name": "stderr",
     "output_type": "stream",
     "text": [
      "C:\\Users\\Acer\\Anaconda3\\lib\\site-packages\\scipy\\stats\\stats.py:1713: FutureWarning: Using a non-tuple sequence for multidimensional indexing is deprecated; use `arr[tuple(seq)]` instead of `arr[seq]`. In the future this will be interpreted as an array index, `arr[np.array(seq)]`, which will result either in an error or a different result.\n",
      "  return np.add.reduce(sorted[indexer] * weights, axis=axis) / sumval\n"
     ]
    },
    {
     "data": {
      "text/plain": [
       "<matplotlib.axes._subplots.AxesSubplot at 0x1ea5a378b70>"
      ]
     },
     "execution_count": 26,
     "metadata": {},
     "output_type": "execute_result"
    },
    {
     "data": {
      "image/png": "[encoded data removed]",
      "text/plain": [
       "<Figure size 432x288 with 1 Axes>"
      ]
     },
     "metadata": {
      "needs_background": "light"
     },
     "output_type": "display_data"
    }
   ],
   "source": [
    "mean_4mins=(72/60)*4\n",
    "dist=np.random.poisson(mean_4mins,1000)\n",
    "prob_5=np.sum(dist==5)/1000\n",
    "prob_less_than_3=np.sum(dist<=3)/1000\n",
    "prob_more_3=np.sum(dist>3)/1000\n",
    "print(\"The probability of 5 customers arriving is {}\".format(prob_5))\n",
    "print('The probability of not more than 3 customers is :{}'.format(prob_less_than_3))\n",
    "print(\"The probability of more than 3 customers is {}\".format(prob_more_3))\n",
    "sns.distplot(dist,hist=False,color='red')"
   ]
  },
  {
   "cell_type": "markdown",
   "metadata": {},
   "source": [
    "\n",
    "Problem Statement 8: I work as a data analyst in Aeon Learning Pvt. Ltd. After analyzing data, I make reports, where I have the efficiency of entering 77 words per minute with 6 errors per hour. What is the probability that I will commit 2 errors in a 455-word financial report? What happens when the no. of words increases/decreases (in case of 1000 words, 255 words)? How is the 𝜆 affected? How does it influence the PMF? Give a pictorial representation of the same to validate your answer.\n",
    "\n"
   ]
  },
  {
   "cell_type": "code",
   "execution_count": 27,
   "metadata": {},
   "outputs": [
    {
     "data": {
      "text/plain": [
       "Text(0, 0.5, 'Probability of two errors')"
      ]
     },
     "execution_count": 27,
     "metadata": {},
     "output_type": "execute_result"
    },
    {
     "data": {
      "image/png": "[encoded data removed]",
      "text/plain": [
       "<Figure size 432x288 with 1 Axes>"
      ]
     },
     "metadata": {
      "needs_background": "light"
     },
     "output_type": "display_data"
    }
   ],
   "source": [
    "n_errors_per_min=6/60 \n",
    "words=[100,255,455,1000,1500]\n",
    "prob=[]\n",
    "for i in words:\n",
    "    lamda=(i/77)*n_errors_per_min\n",
    "    dist=np.random.poisson(lamda,1000)\n",
    "    prob.append(np.sum(dist==2)/1000)\n",
    "plt.plot(words,prob)\n",
    "plt.xlabel(\"Number of Words\")\n",
    "plt.ylabel(\"Probability of two errors\")"
   ]
  },
  {
   "cell_type": "markdown",
   "metadata": {},
   "source": [
    "#Problem Statement 9 is same as 4"
   ]
  },
  {
   "cell_type": "markdown",
   "metadata": {},
   "source": [
    "Problem Statement 10: Please compute the following: a) P(Z > 1.26), . P(Z < −0.86), P(Z > −1.37), P(−1.25 < Z < 0.37), . P(Z ≤ −4.6) b) Find the value 𝑧 such that 𝑃(𝑍 > 𝑧) = 0.05 c) Find the value of 𝑧 such that 𝑃(−𝑧 < 𝑍 < 𝑧) = 0.99"
   ]
  },
  {
   "cell_type": "code",
   "execution_count": 28,
   "metadata": {},
   "outputs": [
    {
     "name": "stdout",
     "output_type": "stream",
     "text": [
      "P(Z > 1.26) :  0.10383468112130045\n",
      "P(Z < −0.86): 0.1948945212518084\n",
      "P(Z > −1.37): 0.914656549178033\n",
      "P(−1.25 < Z < 0.37): 0.5386589811336914\n",
      "P(Z ≤ −4.6): 2.1124547024964357e-06\n",
      "value 𝑧 such that 𝑃(𝑍 > 𝑧) = 0.05: 1.6448536269514729\n",
      "value of 𝑧 such that 𝑃(−𝑧 < 𝑍 < 𝑧): 2.3263478740408408\n"
     ]
    }
   ],
   "source": [
    "print(\"P(Z > 1.26) : \",1-(st.norm.cdf(1.26)))\n",
    "print(\"P(Z < −0.86):\",st.norm.cdf(-0.86))\n",
    "print(\"P(Z > −1.37):\",1-(st.norm.cdf(-1.37)))\n",
    "print(\"P(−1.25 < Z < 0.37):\",(st.norm.cdf(0.37)-st.norm.cdf(-1.25)))\n",
    "print(\"P(Z ≤ −4.6):\",1-(st.norm.cdf(4.6)))\n",
    "print(\"value 𝑧 such that 𝑃(𝑍 > 𝑧) = 0.05:\",np.absolute(st.norm.ppf(0.05)))\n",
    "print(\"value of 𝑧 such that 𝑃(−𝑧 < 𝑍 < 𝑧):\",st.norm.ppf(0.99))"
   ]
  },
  {
   "cell_type": "markdown",
   "metadata": {},
   "source": [
    "Problem Statement 11: The current flow in a copper wire follow a normal distribution with a mean of 10 𝑚A and a variance of 4 (𝑚𝐴)2. What is the probability that a current measurement will exceed 13 𝑚𝐴? What is the probability that a current measurement is between 9 and 11mA? Determine the current measurement which has a probability of 0.98."
   ]
  },
  {
   "cell_type": "code",
   "execution_count": 29,
   "metadata": {},
   "outputs": [
    {
     "name": "stdout",
     "output_type": "stream",
     "text": [
      "probability that a current measurement will exceed 13 𝑚𝐴: 0.06680720126885809\n",
      "probability that a current measurement is between 9 and 11mA: 0.38292492254802624\n",
      "current measurement which has a probability of 0.98: 14.107497821263646\n"
     ]
    }
   ],
   "source": [
    "mean=10\n",
    "std=2\n",
    "print(\"probability that a current measurement will exceed 13 𝑚𝐴:\",1-(st.norm.cdf(x=13,loc=mean,scale=std)))\n",
    "print(\"probability that a current measurement is between 9 and 11mA:\",(st.norm.cdf(x=11,loc=mean,scale=std)-st.norm.cdf(x=9,loc=mean,scale=std)))\n",
    "print(\"current measurement which has a probability of 0.98:\",st.norm.ppf(q=0.98,loc=mean,scale=std))"
   ]
  },
  {
   "cell_type": "markdown",
   "metadata": {},
   "source": [
    "Problem Statement 12: The shaft in a piston has its diameter normally distributed with a mean of 0.2508 inch and a standard deviation of 0.0005 inch. The specifications of the shaft are 0.2500 ∓ 0.0015 inch. What proportion of shafts are in sync with the specifications? If the process is centered so that the mean is equal to the target value of 0.2500, what proportion of shafts conform to the new specifications? What is your conclusion from this experiment?"
   ]
  },
  {
   "cell_type": "code",
   "execution_count": 30,
   "metadata": {},
   "outputs": [
    {
     "name": "stdout",
     "output_type": "stream",
     "text": [
      "Proportion of shafts in sync with the specifications are: 0.91924122831152\n",
      "Proportion of shafts in sync with the specifications after the process is centered is: 0.9973002039367398\n"
     ]
    }
   ],
   "source": [
    "mean=0.2508\n",
    "std=0.0005\n",
    "l1=0.2500-0.0015\n",
    "l2=0.2500+0.0015\n",
    "print(\"Proportion of shafts in sync with the specifications are:\",(st.norm.cdf(x=l2,loc=mean,scale=std)-st.norm.cdf(x=l1,loc=mean,scale=std)))\n",
    "new_mean=0.2500\n",
    "print(\"Proportion of shafts in sync with the specifications after the process is centered is:\",(st.norm.cdf(x=l2,loc=new_mean,scale=std)-st.norm.cdf(x=l1,loc=new_mean,scale=std)))"
   ]
  },
  {
   "cell_type": "code",
   "execution_count": null,
   "metadata": {},
   "outputs": [],
   "source": []
  }
 ],
 "metadata": {
  "kernelspec": {
   "display_name": "Python 3",
   "language": "python",
   "name": "python3"
  },
  "language_info": {
   "codemirror_mode": {
    "name": "ipython",
    "version": 3
   },
   "file_extension": ".py",
   "mimetype": "text/x-python",
   "name": "python",
   "nbconvert_exporter": "python",
   "pygments_lexer": "ipython3",
   "version": "3.7.1"
  }
 },
 "nbformat": 4,
 "nbformat_minor": 2
}
